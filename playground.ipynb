{
 "cells": [
  {
   "cell_type": "code",
   "execution_count": 9,
   "metadata": {},
   "outputs": [],
   "source": [
    "import os\n",
    "import json"
   ]
  },
  {
   "cell_type": "code",
   "execution_count": 1,
   "metadata": {},
   "outputs": [],
   "source": [
    "from llm import GPT"
   ]
  },
  {
   "cell_type": "code",
   "execution_count": 2,
   "metadata": {},
   "outputs": [],
   "source": [
    "## Defining function calls\n",
    "def add_numbers(a: float, b: float) -> float:\n",
    "    \"\"\"Adds two numbers and returns the result.\"\"\"\n",
    "    return a + b\n",
    "\n",
    "\n",
    "def subtract_numbers(a: float, b: float) -> float:\n",
    "    \"\"\"Subtracts the second number from the first and returns the result.\"\"\"\n",
    "    return a - b\n",
    "\n",
    "tools = [\n",
    "    {\n",
    "        \"type\": \"function\",\n",
    "        \"name\": \"add_numbers\",\n",
    "        \"description\": \"Takes two numbers and returns their sum.\",\n",
    "        \"parameters\": {\n",
    "            \"type\": \"object\",\n",
    "            \"properties\": {\n",
    "                \"a\": {\n",
    "                    \"type\": \"number\",\n",
    "                    \"description\": \"The first number to add.\"\n",
    "                },\n",
    "                \"b\": {\n",
    "                    \"type\": \"number\",\n",
    "                    \"description\": \"The second number to add.\"\n",
    "                }\n",
    "            },\n",
    "            \"required\": [\"a\", \"b\"],\n",
    "            \"additionalProperties\": False\n",
    "        }\n",
    "    },\n",
    "    {\n",
    "        \"type\": \"function\",\n",
    "        \"name\": \"subtract_numbers\",\n",
    "        \"description\": \"Takes two numbers and returns the result of subtracting the second from the first.\",\n",
    "        \"parameters\": {\n",
    "            \"type\": \"object\",\n",
    "            \"properties\": {\n",
    "                \"a\": {\n",
    "                    \"type\": \"number\",\n",
    "                    \"description\": \"The number from which the second number will be subtracted.\"\n",
    "                },\n",
    "                \"b\": {\n",
    "                    \"type\": \"number\",\n",
    "                    \"description\": \"The number to subtract from the first.\"\n",
    "                }\n",
    "            },\n",
    "            \"required\": [\"a\", \"b\"],\n",
    "            \"additionalProperties\": False\n",
    "        }\n",
    "    }\n",
    "]\n",
    "\n",
    "llm = GPT()"
   ]
  },
  {
   "cell_type": "code",
   "execution_count": 3,
   "metadata": {},
   "outputs": [],
   "source": [
    "# messages = [{\"role\": \"user\", \"content\": \"Who was the grandfather of the father of Aurangzeb?\"}]\n",
    "messages = [{\"role\": \"user\", \"content\": \"Give the addition and subtraction of 10 and 2\"}]\n",
    "\n",
    "# response = llm.get_response(model=\"o1\", input=messages, reasoning={\"effort\": \"medium\"})\n",
    "response = llm.get_response(model=\"gpt-4-0125-preview\", input=messages, tools=tools)\n"
   ]
  },
  {
   "cell_type": "code",
   "execution_count": 10,
   "metadata": {},
   "outputs": [
    {
     "data": {
      "text/plain": [
       "{'a': 10, 'b': 2}"
      ]
     },
     "execution_count": 10,
     "metadata": {},
     "output_type": "execute_result"
    }
   ],
   "source": [
    "json.loads(response.output[0].arguments)"
   ]
  }
 ],
 "metadata": {
  "kernelspec": {
   "display_name": ".venv",
   "language": "python",
   "name": "python3"
  },
  "language_info": {
   "codemirror_mode": {
    "name": "ipython",
    "version": 3
   },
   "file_extension": ".py",
   "mimetype": "text/x-python",
   "name": "python",
   "nbconvert_exporter": "python",
   "pygments_lexer": "ipython3",
   "version": "3.10.10"
  }
 },
 "nbformat": 4,
 "nbformat_minor": 2
}
